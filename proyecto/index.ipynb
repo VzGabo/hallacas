{
 "cells": [
  {
   "cell_type": "markdown",
   "metadata": {},
   "source": [
    "# Damos inicio al proyecto de \"Variables que mejoran la expectativa de vida\""
   ]
  },
  {
   "cell_type": "markdown",
   "metadata": {},
   "source": [
    "### Importando las librerias"
   ]
  },
  {
   "cell_type": "code",
   "execution_count": 2,
   "metadata": {},
   "outputs": [],
   "source": [
    "import pandas as pd \n",
    "import matplotlib.pyplot as plt"
   ]
  },
  {
   "cell_type": "markdown",
   "metadata": {},
   "source": [
    "### Creando una clase para manejar las estadísticas"
   ]
  },
  {
   "cell_type": "code",
   "execution_count": null,
   "metadata": {},
   "outputs": [],
   "source": [
    "class AreaAnalyse:\n",
    "\n",
    "    def __init__(self):\n",
    "        self.menu = '''\n",
    "        1. Comparar países en una variable en el último año (2023)\n",
    "        2. Ver cómo ha avanzado los países en una variable desde el 2008 hasta el último año (2023)       \n",
    "        3. Comparar los países en la política en el último año (2023)\n",
    "        4. Salir del programa\n",
    "        '''\n",
    "\n",
    "    # OBTENIENDO LOS DATOS DEL CSV\n",
    "    def read_data(self) -> list:\n",
    "        try: \n",
    "            file_path = '../informacion/informacion_calidad_vida.csv'\n",
    "            dataframe = pd.read_csv(file_path)\n",
    "        except FileNotFoundError: \n",
    "            print(\"La data no se encontró\")\n",
    "    \n",
    "        return dataframe\n",
    "\n",
    "    # COMPARANDO LOS PAÍSES EN UN ÁREA DEL USUARIO\n",
    "    def comparation_countries(self, area):\n",
    "\n",
    "        area_countries = self.read_data()[['País', area, 'Año']]\n",
    "\n",
    "        # Comparando los países por el área \n",
    "        plt.title(f'Comparación del área {area} entre los países en el 2023')\n",
    "        plt.bar(area_countries.País, area_countries[area])\n",
    "        plt.xlabel('Países')\n",
    "        plt.ylabel(area)\n",
    "        plt.yticks(rotation = 50, color = 'blue', size = 15)\n",
    "        plt.xticks(rotation = 50, size = 12)\n",
    "        plt.show()\n",
    "\n",
    "        print(f\"La columna del área {area} no existen en los datos para los países\")\n",
    "\n",
    "    # COMPARANDO TODOS LOS PAÍSES EN UN ÁREA DESDE EL 2008\n",
    "    def comparation_time_countries(self, area):\n",
    "\n",
    "        data = self.read_data()\n",
    "        if data is None:\n",
    "            return None \n",
    "\n",
    "        # Lista de países a filtrar\n",
    "        countries = ['Noruega', 'Finlandia', 'Dinamarca', 'Suiza', 'Países Bajos', 'Sudán', 'Haití', 'Afganistán', 'Yemen', 'Siria']\n",
    "        \n",
    "        data_filter = {}\n",
    "\n",
    "\n",
    "        for country in countries:\n",
    "            country_data = data[data['País'] == country]\n",
    "\n",
    "            if not area in country_data.columns:\n",
    "                print(f\"La columna del área {area} no existen en los datos para los países\")\n",
    "                break\n",
    "\n",
    "            data_filter[country] = country_data\n",
    "            \n",
    "        for country, df in data_filter.items():\n",
    "            plt.plot(df['Año'], df[area], label = country)\n",
    "        plt.title(f'Evolución del area {area} por año en cada país')\n",
    "        plt.xlabel('Año')\n",
    "        plt.ylabel(area)\n",
    "        plt.grid(True)\n",
    "        plt.legend()\n",
    "        plt.show()"
   ]
  },
  {
   "cell_type": "markdown",
   "metadata": {},
   "source": [
    "### Bucle while para crear interactiva con el usuario"
   ]
  },
  {
   "cell_type": "code",
   "execution_count": 5,
   "metadata": {},
   "outputs": [
    {
     "name": "stdout",
     "output_type": "stream",
     "text": [
      "\n",
      "        1. Comparar países en una variable en el último año (2023)\n",
      "        2. Ver cómo ha avanzado los países en una variable desde el 2008 hasta el último año (2023)       \n",
      "        3. Comparar los países en la política en el último año (2023)\n",
      "        4. Salir del programa\n",
      "        \n",
      "Saliendo del programa...\n"
     ]
    }
   ],
   "source": [
    "analyse = AreaAnalyse() # Instanciando la clase\n",
    "areas = analyse.read_data() # Obteniendo la data\n",
    "\n",
    "life_variable = areas.iloc[0 : 0, 2 :] # Obteniendo las variables de vida\n",
    "\n",
    "option = 0 \n",
    "\n",
    "while option in [0, 1, 2, 3, 4]:\n",
    "    \n",
    "    print(analyse.menu)\n",
    "\n",
    "    option = int(input(\"Introduce una opción: \"))\n",
    "\n",
    "    # Comparar todos los países en un área en el año 2023\n",
    "    if option == 1:\n",
    "        print(f\"Lás variables disponibles son: {life_variable.columns}\")\n",
    "        area_life = input(\"Introduce qué área quieres comparar con los demás países\")\n",
    "\n",
    "        analyse.comparation_countries(area_life)\n",
    "        \n",
    "    # Comparar todos los países desde el 2008 en un área hasta el 2023\n",
    "    elif option == 2:\n",
    "        print(f\"Las variables disponibles son: {life_variable.columns}\")\n",
    "        area_years = input(\"Introduce el área a comparar cronológicamente\")\n",
    "\n",
    "        analyse.comparation_time_countries(area_years)\n",
    "\n",
    "    # Comparar la política de los países en el año 2023\n",
    "    elif option == 3:\n",
    "        print(\"La diferencia política entre los 5 mejores países y los 5 peores es: \")\n",
    "        analyse.comparation_countries('Estabilidad y Derechos Civiles')\n",
    "\n",
    "    # SALIENDO DEL PROGRAMA\n",
    "    elif option == 4:\n",
    "        print('Saliendo del programa...')\n",
    "        option = 5\n",
    "\n",
    "    else: \n",
    "        print('Esa opción no está entre las opciones')\n",
    "\n"
   ]
  }
 ],
 "metadata": {
  "kernelspec": {
   "display_name": "Python 3",
   "language": "python",
   "name": "python3"
  },
  "language_info": {
   "codemirror_mode": {
    "name": "ipython",
    "version": 3
   },
   "file_extension": ".py",
   "mimetype": "text/x-python",
   "name": "python",
   "nbconvert_exporter": "python",
   "pygments_lexer": "ipython3",
   "version": "3.13.0"
  }
 },
 "nbformat": 4,
 "nbformat_minor": 2
}
