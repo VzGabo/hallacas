{
 "cells": [
  {
   "cell_type": "markdown",
   "metadata": {},
   "source": [
    "# Damos inicio al proyecto de \"Variables que mejoran la expectativa de vida\""
   ]
  },
  {
   "cell_type": "markdown",
   "metadata": {},
   "source": [
    "### Importando las librerias"
   ]
  },
  {
   "cell_type": "code",
   "execution_count": 21,
   "metadata": {},
   "outputs": [],
   "source": [
    "import pandas as pd \n",
    "import matplotlib.pyplot as plt\n"
   ]
  },
  {
   "cell_type": "markdown",
   "metadata": {},
   "source": [
    "### Creando una clase para manejar las estadísticas"
   ]
  },
  {
   "cell_type": "code",
   "execution_count": 27,
   "metadata": {},
   "outputs": [],
   "source": [
    "class AreaAnalyse:\n",
    "\n",
    "    # OBTENIENDO LOS DATOS DEL CSV\n",
    "    def read_data(self) -> list:\n",
    "        try: \n",
    "            file_path = '../informacion/informacion_calidad_vida.csv'\n",
    "            dataframe = pd.read_csv(file_path)\n",
    "        except: \n",
    "            print(\"La data no se encontró\")\n",
    "    \n",
    "        return dataframe\n",
    "\n",
    "    # COMPARANDO LOS PAÍSES EN UN ÁREA DEL USUARIO\n",
    "    def comparation_countries(self, area):\n",
    "        healthy_countries = self.read_data()[['País', area, 'Año']]\n",
    "\n",
    "        # Comparando los países por el área \n",
    "        plt.title(f'Comparación del área {area} entre los países en el 2023')\n",
    "        plt.bar(healthy_countries.País, healthy_countries[area])\n",
    "        plt.yticks(rotation = 50, color = 'blue', size = 15)\n",
    "        plt.xticks(rotation = 50, size = 12)\n",
    "        plt.show()\n",
    "\n",
    "    # COMPARANDO TODOS LOS PAÍSES EN UN ÁREA\n",
    "    def comparation_time_countries(self, area):\n",
    "        data = self.read_data()\n",
    "        if data is None:\n",
    "            return None \n",
    "\n",
    "        # Lista de países a filtrar\n",
    "        paises = ['Noruega', 'Finlandia', 'Dinamarca', 'Suiza', 'Países Bajos', 'Sudán', 'Haití', 'Afganistán', 'Yemen', 'Siria']\n",
    "        \n",
    "        datos_filtrados = {}\n",
    "\n",
    "        for pais in paises:\n",
    "            pais_data = data[data['País'] == pais]\n",
    "\n",
    "            if 'Año' not in pais_data.columns or  not area in pais_data.columns:\n",
    "                print(f\"Las columnas 'Año' o {area} no existen en los datos para {pais}.\")\n",
    "                continue\n",
    "\n",
    "            datos_filtrados[pais] = pais_data\n",
    "\n",
    "        #Gráfico de línea\n",
    "        for pais, df in datos_filtrados.items():\n",
    "            plt.plot(df['Año'], df[area], label=pais)\n",
    "        plt.title(f'Evolución del area {area} por año en cada país')\n",
    "        plt.xlabel('Año')\n",
    "        plt.ylabel(area)\n",
    "        plt.grid(True)\n",
    "        plt.legend()\n",
    "        plt.show()\n",
    "\n"
   ]
  }
 ],
 "metadata": {
  "kernelspec": {
   "display_name": "Python 3",
   "language": "python",
   "name": "python3"
  },
  "language_info": {
   "codemirror_mode": {
    "name": "ipython",
    "version": 3
   },
   "file_extension": ".py",
   "mimetype": "text/x-python",
   "name": "python",
   "nbconvert_exporter": "python",
   "pygments_lexer": "ipython3",
   "version": "undefined.undefined.undefined"
  }
 },
 "nbformat": 4,
 "nbformat_minor": 2
}
