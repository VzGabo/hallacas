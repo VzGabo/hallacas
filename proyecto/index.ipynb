{
 "cells": [
  {
   "cell_type": "markdown",
   "metadata": {},
   "source": [
    "# Damos inicio al proyecto de \"Variables que mejoran la calidad de vida\""
   ]
  },
  {
   "cell_type": "markdown",
   "metadata": {},
   "source": [
    "1. Trayendo las librerias"
   ]
  },
  {
   "cell_type": "code",
   "execution_count": 20,
   "metadata": {},
   "outputs": [],
   "source": [
    "import pandas as pd \n",
    "import matplotlib as plt"
   ]
  },
  {
   "cell_type": "markdown",
   "metadata": {},
   "source": [
    "2. código para analizar [tu area]"
   ]
  },
  {
   "cell_type": "code",
   "execution_count": 36,
   "metadata": {},
   "outputs": [
    {
     "data": {
      "text/html": [
       "<div>\n",
       "<style scoped>\n",
       "    .dataframe tbody tr th:only-of-type {\n",
       "        vertical-align: middle;\n",
       "    }\n",
       "\n",
       "    .dataframe tbody tr th {\n",
       "        vertical-align: top;\n",
       "    }\n",
       "\n",
       "    .dataframe thead th {\n",
       "        text-align: right;\n",
       "    }\n",
       "</style>\n",
       "<table border=\"1\" class=\"dataframe\">\n",
       "  <thead>\n",
       "    <tr style=\"text-align: right;\">\n",
       "      <th></th>\n",
       "      <th>País</th>\n",
       "      <th>Año</th>\n",
       "      <th>Salud</th>\n",
       "      <th>Educación</th>\n",
       "      <th>Economía y Empleo</th>\n",
       "      <th>Bienestar Social</th>\n",
       "      <th>Estabilidad y Derechos Civiles</th>\n",
       "      <th>Medio Ambiente y Clima</th>\n",
       "      <th>Seguridad</th>\n",
       "    </tr>\n",
       "  </thead>\n",
       "  <tbody>\n",
       "    <tr>\n",
       "      <th>0</th>\n",
       "      <td>Noruega</td>\n",
       "      <td>2023</td>\n",
       "      <td>92</td>\n",
       "      <td>90</td>\n",
       "      <td>85</td>\n",
       "      <td>88</td>\n",
       "      <td>91</td>\n",
       "      <td>86</td>\n",
       "      <td>93</td>\n",
       "    </tr>\n",
       "    <tr>\n",
       "      <th>1</th>\n",
       "      <td>Suiza</td>\n",
       "      <td>2023</td>\n",
       "      <td>89</td>\n",
       "      <td>88</td>\n",
       "      <td>84</td>\n",
       "      <td>87</td>\n",
       "      <td>90</td>\n",
       "      <td>85</td>\n",
       "      <td>91</td>\n",
       "    </tr>\n",
       "    <tr>\n",
       "      <th>2</th>\n",
       "      <td>Dinamarca</td>\n",
       "      <td>2023</td>\n",
       "      <td>91</td>\n",
       "      <td>89</td>\n",
       "      <td>83</td>\n",
       "      <td>86</td>\n",
       "      <td>89</td>\n",
       "      <td>87</td>\n",
       "      <td>92</td>\n",
       "    </tr>\n",
       "    <tr>\n",
       "      <th>3</th>\n",
       "      <td>Finlandia</td>\n",
       "      <td>2023</td>\n",
       "      <td>90</td>\n",
       "      <td>90</td>\n",
       "      <td>86</td>\n",
       "      <td>85</td>\n",
       "      <td>88</td>\n",
       "      <td>88</td>\n",
       "      <td>94</td>\n",
       "    </tr>\n",
       "    <tr>\n",
       "      <th>4</th>\n",
       "      <td>Países Bajos</td>\n",
       "      <td>2023</td>\n",
       "      <td>89</td>\n",
       "      <td>87</td>\n",
       "      <td>82</td>\n",
       "      <td>84</td>\n",
       "      <td>87</td>\n",
       "      <td>85</td>\n",
       "      <td>90</td>\n",
       "    </tr>\n",
       "  </tbody>\n",
       "</table>\n",
       "</div>"
      ],
      "text/plain": [
       "           País   Año  Salud  Educación  Economía y Empleo  Bienestar Social  \\\n",
       "0       Noruega  2023     92         90                 85                88   \n",
       "1         Suiza  2023     89         88                 84                87   \n",
       "2     Dinamarca  2023     91         89                 83                86   \n",
       "3     Finlandia  2023     90         90                 86                85   \n",
       "4  Países Bajos  2023     89         87                 82                84   \n",
       "\n",
       "   Estabilidad y Derechos Civiles  Medio Ambiente y Clima  Seguridad  \n",
       "0                              91                      86         93  \n",
       "1                              90                      85         91  \n",
       "2                              89                      87         92  \n",
       "3                              88                      88         94  \n",
       "4                              87                      85         90  "
      ]
     },
     "execution_count": 36,
     "metadata": {},
     "output_type": "execute_result"
    }
   ],
   "source": [
    "# INICIOS DEL PROYECTO\n",
    "\n",
    "# 1. Llamando al archivo\n",
    "\n",
    "# 2. Filtrar la data a base de lo que se realizará \n",
    "class Data: \n",
    "\n",
    "\n",
    "    def read_data(self) -> list:\n",
    "\n",
    "        try: \n",
    "            file_path = '../informacion/informacion_calidad_vida.csv'\n",
    "            dataframe = pd.read_csv(file_path)\n",
    "        except: \n",
    "            print(\"La data no se encontró\")\n",
    "\n",
    "        return dataframe\n",
    "\n",
    "\n",
    "df = Data().read_data()\n",
    "df.head() # Los 10 países a trabajar"
   ]
  }
 ],
 "metadata": {
  "kernelspec": {
   "display_name": ".venv",
   "language": "python",
   "name": "python3"
  },
  "language_info": {
   "codemirror_mode": {
    "name": "ipython",
    "version": 3
   },
   "file_extension": ".py",
   "mimetype": "text/x-python",
   "name": "python",
   "nbconvert_exporter": "python",
   "pygments_lexer": "ipython3",
   "version": "3.13.0"
  }
 },
 "nbformat": 4,
 "nbformat_minor": 2
}
